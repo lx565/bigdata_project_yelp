{
 "cells": [
  {
   "cell_type": "markdown",
   "metadata": {},
   "source": [
    "## This is the Modeling part of the Bigdata Class Project - Individual City Analysis - Pittburgh\n",
    "\n",
    "* pyspark\n",
    "* pyspark dataframe\n",
    "* pyspark sql"
   ]
  },
  {
   "cell_type": "code",
   "execution_count": 1,
   "metadata": {
    "collapsed": false
   },
   "outputs": [
    {
     "data": {
      "text/plain": [
       "<pyspark.context.SparkContext at 0x10e789850>"
      ]
     },
     "execution_count": 1,
     "metadata": {},
     "output_type": "execute_result"
    }
   ],
   "source": [
    "sc"
   ]
  },
  {
   "cell_type": "code",
   "execution_count": 26,
   "metadata": {
    "collapsed": false
   },
   "outputs": [],
   "source": [
    "import matplotlib.pyplot as plt\n",
    "from pyspark.ml.clustering import KMeans\n",
    "from pyspark.ml.classification import DecisionTreeClassifier\n",
    "from pyspark.ml.feature import VectorAssembler, StringIndexer, IndexToString, VectorIndexer, Word2Vec\n",
    "from pyspark.ml import Pipeline\n",
    "\n",
    "from geopandas import GeoDataFrame\n",
    "import matplotlib.pylab as plt\n",
    "\n",
    "%matplotlib inline\n",
    "\n",
    "#pyspark.ml.feature.Word2Vec?"
   ]
  },
  {
   "cell_type": "markdown",
   "metadata": {},
   "source": [
    "### Load Pre-Processed Shapefile for Pittburgh"
   ]
  },
  {
   "cell_type": "code",
   "execution_count": 467,
   "metadata": {
    "collapsed": false
   },
   "outputs": [],
   "source": [
    "#shape_path = \"Pittsburgh_Tracts/Pittsburgh_tracts.shp\"\n",
    "shape_path = \"pitt tract/BussinessStars.shp\"\n",
    "ct_shape = GeoDataFrame.from_file(shape_path)\n",
    "ct_shape.index = ct_shape.TRACT\n",
    "ct_shape_spark = sqlContext.createDataFrame(ct_shape)"
   ]
  },
  {
   "cell_type": "code",
   "execution_count": 468,
   "metadata": {
    "collapsed": false
   },
   "outputs": [
    {
     "data": {
      "text/html": [
       "<div>\n",
       "<table border=\"1\" class=\"dataframe\">\n",
       "  <thead>\n",
       "    <tr style=\"text-align: right;\">\n",
       "      <th></th>\n",
       "      <th>AGE_18_21</th>\n",
       "      <th>AGE_22_29</th>\n",
       "      <th>AGE_30_39</th>\n",
       "      <th>AGE_40_49</th>\n",
       "      <th>AGE_50_64</th>\n",
       "      <th>AGE_5_17</th>\n",
       "      <th>AGE_65_UP</th>\n",
       "      <th>AGE_UNDER5</th>\n",
       "      <th>AMERI_ES</th>\n",
       "      <th>ASIAN</th>\n",
       "      <th>...</th>\n",
       "      <th>VACANT</th>\n",
       "      <th>WHITE</th>\n",
       "      <th>business_i</th>\n",
       "      <th>geometry</th>\n",
       "      <th>latitude</th>\n",
       "      <th>longitude</th>\n",
       "      <th>rate</th>\n",
       "      <th>stars</th>\n",
       "      <th>sum_weekda</th>\n",
       "      <th>sum_weeken</th>\n",
       "    </tr>\n",
       "    <tr>\n",
       "      <th>TRACT</th>\n",
       "      <th></th>\n",
       "      <th></th>\n",
       "      <th></th>\n",
       "      <th></th>\n",
       "      <th></th>\n",
       "      <th></th>\n",
       "      <th></th>\n",
       "      <th></th>\n",
       "      <th></th>\n",
       "      <th></th>\n",
       "      <th></th>\n",
       "      <th></th>\n",
       "      <th></th>\n",
       "      <th></th>\n",
       "      <th></th>\n",
       "      <th></th>\n",
       "      <th></th>\n",
       "      <th></th>\n",
       "      <th></th>\n",
       "      <th></th>\n",
       "      <th></th>\n",
       "    </tr>\n",
       "  </thead>\n",
       "  <tbody>\n",
       "    <tr>\n",
       "      <th>010300</th>\n",
       "      <td>2899</td>\n",
       "      <td>366</td>\n",
       "      <td>130</td>\n",
       "      <td>114</td>\n",
       "      <td>143</td>\n",
       "      <td>80</td>\n",
       "      <td>148</td>\n",
       "      <td>42</td>\n",
       "      <td>12</td>\n",
       "      <td>147</td>\n",
       "      <td>...</td>\n",
       "      <td>253</td>\n",
       "      <td>3075</td>\n",
       "      <td>xO09rJXkqonSRzUzcwjoFQ</td>\n",
       "      <td>POINT (-79.99128849999994 40.43730530000005)</td>\n",
       "      <td>40.437305</td>\n",
       "      <td>-79.991288</td>\n",
       "      <td>0.183544</td>\n",
       "      <td>4.0</td>\n",
       "      <td>158</td>\n",
       "      <td>29</td>\n",
       "    </tr>\n",
       "    <tr>\n",
       "      <th>010300</th>\n",
       "      <td>2899</td>\n",
       "      <td>366</td>\n",
       "      <td>130</td>\n",
       "      <td>114</td>\n",
       "      <td>143</td>\n",
       "      <td>80</td>\n",
       "      <td>148</td>\n",
       "      <td>42</td>\n",
       "      <td>12</td>\n",
       "      <td>147</td>\n",
       "      <td>...</td>\n",
       "      <td>253</td>\n",
       "      <td>3075</td>\n",
       "      <td>uCVlfxoph6iFgztZC72Mxw</td>\n",
       "      <td>POINT (-79.98528539999995 40.43613680000004)</td>\n",
       "      <td>40.436137</td>\n",
       "      <td>-79.985285</td>\n",
       "      <td>0.447368</td>\n",
       "      <td>3.5</td>\n",
       "      <td>38</td>\n",
       "      <td>17</td>\n",
       "    </tr>\n",
       "    <tr>\n",
       "      <th>010300</th>\n",
       "      <td>2899</td>\n",
       "      <td>366</td>\n",
       "      <td>130</td>\n",
       "      <td>114</td>\n",
       "      <td>143</td>\n",
       "      <td>80</td>\n",
       "      <td>148</td>\n",
       "      <td>42</td>\n",
       "      <td>12</td>\n",
       "      <td>147</td>\n",
       "      <td>...</td>\n",
       "      <td>253</td>\n",
       "      <td>3075</td>\n",
       "      <td>rDgiBah58fc6AfVD58m2mw</td>\n",
       "      <td>POINT (-79.99201099999993 40.43870140000007)</td>\n",
       "      <td>40.438701</td>\n",
       "      <td>-79.992011</td>\n",
       "      <td>0.444444</td>\n",
       "      <td>3.5</td>\n",
       "      <td>27</td>\n",
       "      <td>12</td>\n",
       "    </tr>\n",
       "    <tr>\n",
       "      <th>010300</th>\n",
       "      <td>2899</td>\n",
       "      <td>366</td>\n",
       "      <td>130</td>\n",
       "      <td>114</td>\n",
       "      <td>143</td>\n",
       "      <td>80</td>\n",
       "      <td>148</td>\n",
       "      <td>42</td>\n",
       "      <td>12</td>\n",
       "      <td>147</td>\n",
       "      <td>...</td>\n",
       "      <td>253</td>\n",
       "      <td>3075</td>\n",
       "      <td>5Qa1bKl5BeXOC_6kZV7nBw</td>\n",
       "      <td>POINT (-79.98878489999998 40.43846700000006)</td>\n",
       "      <td>40.438467</td>\n",
       "      <td>-79.988785</td>\n",
       "      <td>0.208333</td>\n",
       "      <td>3.0</td>\n",
       "      <td>24</td>\n",
       "      <td>5</td>\n",
       "    </tr>\n",
       "    <tr>\n",
       "      <th>010300</th>\n",
       "      <td>2899</td>\n",
       "      <td>366</td>\n",
       "      <td>130</td>\n",
       "      <td>114</td>\n",
       "      <td>143</td>\n",
       "      <td>80</td>\n",
       "      <td>148</td>\n",
       "      <td>42</td>\n",
       "      <td>12</td>\n",
       "      <td>147</td>\n",
       "      <td>...</td>\n",
       "      <td>253</td>\n",
       "      <td>3075</td>\n",
       "      <td>kiVnUirURYI91t9YY3nddQ</td>\n",
       "      <td>POINT (-79.98797799999994 40.43845300000004)</td>\n",
       "      <td>40.438453</td>\n",
       "      <td>-79.987978</td>\n",
       "      <td>0.321839</td>\n",
       "      <td>3.5</td>\n",
       "      <td>87</td>\n",
       "      <td>28</td>\n",
       "    </tr>\n",
       "  </tbody>\n",
       "</table>\n",
       "<p>5 rows × 59 columns</p>\n",
       "</div>"
      ],
      "text/plain": [
       "        AGE_18_21  AGE_22_29  AGE_30_39  AGE_40_49  AGE_50_64  AGE_5_17  \\\n",
       "TRACT                                                                     \n",
       "010300       2899        366        130        114        143        80   \n",
       "010300       2899        366        130        114        143        80   \n",
       "010300       2899        366        130        114        143        80   \n",
       "010300       2899        366        130        114        143        80   \n",
       "010300       2899        366        130        114        143        80   \n",
       "\n",
       "        AGE_65_UP  AGE_UNDER5  AMERI_ES  ASIAN     ...      VACANT  WHITE  \\\n",
       "TRACT                                              ...                      \n",
       "010300        148          42        12    147     ...         253   3075   \n",
       "010300        148          42        12    147     ...         253   3075   \n",
       "010300        148          42        12    147     ...         253   3075   \n",
       "010300        148          42        12    147     ...         253   3075   \n",
       "010300        148          42        12    147     ...         253   3075   \n",
       "\n",
       "                    business_i                                      geometry  \\\n",
       "TRACT                                                                          \n",
       "010300  xO09rJXkqonSRzUzcwjoFQ  POINT (-79.99128849999994 40.43730530000005)   \n",
       "010300  uCVlfxoph6iFgztZC72Mxw  POINT (-79.98528539999995 40.43613680000004)   \n",
       "010300  rDgiBah58fc6AfVD58m2mw  POINT (-79.99201099999993 40.43870140000007)   \n",
       "010300  5Qa1bKl5BeXOC_6kZV7nBw  POINT (-79.98878489999998 40.43846700000006)   \n",
       "010300  kiVnUirURYI91t9YY3nddQ  POINT (-79.98797799999994 40.43845300000004)   \n",
       "\n",
       "         latitude  longitude      rate stars  sum_weekda  sum_weeken  \n",
       "TRACT                                                                 \n",
       "010300  40.437305 -79.991288  0.183544   4.0         158          29  \n",
       "010300  40.436137 -79.985285  0.447368   3.5          38          17  \n",
       "010300  40.438701 -79.992011  0.444444   3.5          27          12  \n",
       "010300  40.438467 -79.988785  0.208333   3.0          24           5  \n",
       "010300  40.438453 -79.987978  0.321839   3.5          87          28  \n",
       "\n",
       "[5 rows x 59 columns]"
      ]
     },
     "execution_count": 468,
     "metadata": {},
     "output_type": "execute_result"
    }
   ],
   "source": [
    "ct_shape.head()"
   ]
  },
  {
   "cell_type": "code",
   "execution_count": 469,
   "metadata": {
    "collapsed": false
   },
   "outputs": [
    {
     "name": "stdout",
     "output_type": "stream",
     "text": [
      "+---------+---------+---------+---------+---------+--------+---------+----------+--------+-----+----------+---------+-----+---------+--------+-------+---------+-----------+------+-------+--------+----------+----------+----------+---------+-----+---------+----------+-------+---------+---------+---------+---------+--------+----------+-----+---------+----------+----------+----------+-------+-------+----------+----+----------+--------+----------------+---------------+------+------+-----+--------------------+--------------------+----------+-----------+--------+-----+----------+----------+\n",
      "|AGE_18_21|AGE_22_29|AGE_30_39|AGE_40_49|AGE_50_64|AGE_5_17|AGE_65_UP|AGE_UNDER5|AMERI_ES|ASIAN|AVE_FAM_SZ|AVE_HH_SZ|BLACK|CNTY_FIPS|FAMILIES|FEMALES|FHH_CHILD|       FIPS|Field1|HAWN_PI|HISPANIC|HOUSEHOLDS|HSEHLD_1_F|HSEHLD_1_M|HSE_UNITS|MALES|MARHH_CHD|MARHH_NO_C|MED_AGE|MED_AGE_F|MED_AGE_M|MHH_CHILD|MULT_RACE|OBJECTID|OBJECTID_1|OTHER|OWNER_OCC|ObjectID_2|POP00_SQMI|POP07_SQMI|POP2000|POP2007|RENTER_OCC|SQMI|STATE_FIPS|STCOFIPS|      Shape_Area|     Shape_Leng| TRACT|VACANT|WHITE|          business_i|            geometry|  latitude|  longitude|    rate|stars|sum_weekda|sum_weeken|\n",
      "+---------+---------+---------+---------+---------+--------+---------+----------+--------+-----+----------+---------+-----+---------+--------+-------+---------+-----------+------+-------+--------+----------+----------+----------+---------+-----+---------+----------+-------+---------+---------+---------+---------+--------+----------+-----+---------+----------+----------+----------+-------+-------+----------+----+----------+--------+----------------+---------------+------+------+-----+--------------------+--------------------+----------+-----------+--------+-----+----------+----------+\n",
      "|     2899|      366|      130|      114|      143|      80|      148|        42|      12|  147|      2.78|     1.93|  522|      003|     137|   2321|       30|42003010300|   462|      4|     125|       468|       123|       106|      721| 1601|       16|        35|   20.2|     20.2|     20.2|        4|       53|     340|         1|  109|      127|     49814|    9338.1|   14864.3|   3922| 6243.0|       341|0.42|        42|   42003|1.14692020158E-4|0.0579807999418|010300|   253| 3075|xO09rJXkqonSRzUzc...|[5676729568,false,2]|40.4373053|-79.9912885|0.183544|  4.0|       158|        29|\n",
      "|     2899|      366|      130|      114|      143|      80|      148|        42|      12|  147|      2.78|     1.93|  522|      003|     137|   2321|       30|42003010300|   744|      4|     125|       468|       123|       106|      721| 1601|       16|        35|   20.2|     20.2|     20.2|        4|       53|     605|         1|  109|      127|     49814|    9338.1|   14864.3|   3922| 6243.0|       341|0.42|        42|   42003|1.14692020158E-4|0.0579807999418|010300|   253| 3075|uCVlfxoph6iFgztZC...|[5686089232,false,2]|40.4361368|-79.9852854|0.447368|  3.5|        38|        17|\n",
      "|     2899|      366|      130|      114|      143|      80|      148|        42|      12|  147|      2.78|     1.93|  522|      003|     137|   2321|       30|42003010300|   750|      4|     125|       468|       123|       106|      721| 1601|       16|        35|   20.2|     20.2|     20.2|        4|       53|     611|         1|  109|      127|     49814|    9338.1|   14864.3|   3922| 6243.0|       341|0.42|        42|   42003|1.14692020158E-4|0.0579807999418|010300|   253| 3075|rDgiBah58fc6AfVD5...|[5619661712,false,2]|40.4387014| -79.992011|0.444444|  3.5|        27|        12|\n",
      "+---------+---------+---------+---------+---------+--------+---------+----------+--------+-----+----------+---------+-----+---------+--------+-------+---------+-----------+------+-------+--------+----------+----------+----------+---------+-----+---------+----------+-------+---------+---------+---------+---------+--------+----------+-----+---------+----------+----------+----------+-------+-------+----------+----+----------+--------+----------------+---------------+------+------+-----+--------------------+--------------------+----------+-----------+--------+-----+----------+----------+\n",
      "only showing top 3 rows\n",
      "\n"
     ]
    }
   ],
   "source": [
    "ct_shape_spark.show(3)"
   ]
  },
  {
   "cell_type": "code",
   "execution_count": 470,
   "metadata": {
    "collapsed": false
   },
   "outputs": [
    {
     "name": "stdout",
     "output_type": "stream",
     "text": [
      "root\n",
      " |-- AGE_18_21: long (nullable = true)\n",
      " |-- AGE_22_29: long (nullable = true)\n",
      " |-- AGE_30_39: long (nullable = true)\n",
      " |-- AGE_40_49: long (nullable = true)\n",
      " |-- AGE_50_64: long (nullable = true)\n",
      " |-- AGE_5_17: long (nullable = true)\n",
      " |-- AGE_65_UP: long (nullable = true)\n",
      " |-- AGE_UNDER5: long (nullable = true)\n",
      " |-- AMERI_ES: long (nullable = true)\n",
      " |-- ASIAN: long (nullable = true)\n",
      " |-- AVE_FAM_SZ: double (nullable = true)\n",
      " |-- AVE_HH_SZ: double (nullable = true)\n",
      " |-- BLACK: long (nullable = true)\n",
      " |-- CNTY_FIPS: string (nullable = true)\n",
      " |-- FAMILIES: long (nullable = true)\n",
      " |-- FEMALES: long (nullable = true)\n",
      " |-- FHH_CHILD: long (nullable = true)\n",
      " |-- FIPS: string (nullable = true)\n",
      " |-- Field1: long (nullable = true)\n",
      " |-- HAWN_PI: long (nullable = true)\n",
      " |-- HISPANIC: long (nullable = true)\n",
      " |-- HOUSEHOLDS: long (nullable = true)\n",
      " |-- HSEHLD_1_F: long (nullable = true)\n",
      " |-- HSEHLD_1_M: long (nullable = true)\n",
      " |-- HSE_UNITS: long (nullable = true)\n",
      " |-- MALES: long (nullable = true)\n",
      " |-- MARHH_CHD: long (nullable = true)\n",
      " |-- MARHH_NO_C: long (nullable = true)\n",
      " |-- MED_AGE: double (nullable = true)\n",
      " |-- MED_AGE_F: double (nullable = true)\n",
      " |-- MED_AGE_M: double (nullable = true)\n",
      " |-- MHH_CHILD: long (nullable = true)\n",
      " |-- MULT_RACE: long (nullable = true)\n",
      " |-- OBJECTID: long (nullable = true)\n",
      " |-- OBJECTID_1: long (nullable = true)\n",
      " |-- OTHER: long (nullable = true)\n",
      " |-- OWNER_OCC: long (nullable = true)\n",
      " |-- ObjectID_2: long (nullable = true)\n",
      " |-- POP00_SQMI: double (nullable = true)\n",
      " |-- POP07_SQMI: double (nullable = true)\n",
      " |-- POP2000: long (nullable = true)\n",
      " |-- POP2007: double (nullable = true)\n",
      " |-- RENTER_OCC: long (nullable = true)\n",
      " |-- SQMI: double (nullable = true)\n",
      " |-- STATE_FIPS: string (nullable = true)\n",
      " |-- STCOFIPS: string (nullable = true)\n",
      " |-- Shape_Area: double (nullable = true)\n",
      " |-- Shape_Leng: double (nullable = true)\n",
      " |-- TRACT: string (nullable = true)\n",
      " |-- VACANT: long (nullable = true)\n",
      " |-- WHITE: long (nullable = true)\n",
      " |-- business_i: string (nullable = true)\n",
      " |-- geometry: struct (nullable = true)\n",
      " |    |-- __geom__: long (nullable = true)\n",
      " |    |-- _is_empty: boolean (nullable = true)\n",
      " |    |-- _ndim: long (nullable = true)\n",
      " |-- latitude: double (nullable = true)\n",
      " |-- longitude: double (nullable = true)\n",
      " |-- rate: double (nullable = true)\n",
      " |-- stars: double (nullable = true)\n",
      " |-- sum_weekda: long (nullable = true)\n",
      " |-- sum_weeken: long (nullable = true)\n",
      "\n"
     ]
    }
   ],
   "source": [
    "ct_shape_spark.printSchema()"
   ]
  },
  {
   "cell_type": "code",
   "execution_count": 213,
   "metadata": {
    "collapsed": false
   },
   "outputs": [
    {
     "data": {
      "text/plain": [
       "geopandas.geodataframe.GeoDataFrame"
      ]
     },
     "execution_count": 213,
     "metadata": {},
     "output_type": "execute_result"
    }
   ],
   "source": [
    "##ct_shape_spark.select(\"geometry\").show()\n",
    "type(ct_shape)"
   ]
  },
  {
   "cell_type": "markdown",
   "metadata": {},
   "source": [
    "## Plot just to see the business locations"
   ]
  },
  {
   "cell_type": "code",
   "execution_count": 471,
   "metadata": {
    "collapsed": false
   },
   "outputs": [
    {
     "data": {
      "text/plain": [
       "<matplotlib.text.Text at 0x153fb23d0>"
      ]
     },
     "execution_count": 471,
     "metadata": {},
     "output_type": "execute_result"
    },
    {
     "data": {
      "image/png": "[encoded data removed]",
      "text/plain": [
       "<matplotlib.figure.Figure at 0x15433ec50>"
      ]
     },
     "metadata": {},
     "output_type": "display_data"
    }
   ],
   "source": [
    "f, ax = plt.subplots(figsize=(10,6))\n",
    "ax.get_xaxis().set_visible(False)\n",
    "ax.get_yaxis().set_visible(False)\n",
    "ct_shape.plot(column =\"stars\",alpha=1, linewidth=0.5, ax=ax)\n",
    "plt.title(\"Census Tract map colored by boroughs\")\n"
   ]
  },
  {
   "cell_type": "code",
   "execution_count": 472,
   "metadata": {
    "collapsed": false
   },
   "outputs": [],
   "source": [
    "df_train = ct_shape_spark.select(ct_shape_spark[\"business_i\"],ct_shape_spark['stars'].cast('float'), \\\n",
    "                       ct_shape_spark['sum_weekda'].cast('int'), ct_shape_spark['sum_weeken'].cast('int'),\\\n",
    "                                ct_shape_spark[\"TRACT\"].cast('int'), ct_shape_spark[\"rate\"].cast('float'))"
   ]
  },
  {
   "cell_type": "code",
   "execution_count": 473,
   "metadata": {
    "collapsed": false
   },
   "outputs": [
    {
     "name": "stdout",
     "output_type": "stream",
     "text": [
      "+--------------------+-----+----------+----------+-----+--------+\n",
      "|          business_i|stars|sum_weekda|sum_weeken|TRACT|    rate|\n",
      "+--------------------+-----+----------+----------+-----+--------+\n",
      "|xO09rJXkqonSRzUzc...|  4.0|       158|        29|10300|0.183544|\n",
      "|uCVlfxoph6iFgztZC...|  3.5|        38|        17|10300|0.447368|\n",
      "|rDgiBah58fc6AfVD5...|  3.5|        27|        12|10300|0.444444|\n",
      "|5Qa1bKl5BeXOC_6kZ...|  3.0|        24|         5|10300|0.208333|\n",
      "|kiVnUirURYI91t9YY...|  3.5|        87|        28|10300|0.321839|\n",
      "+--------------------+-----+----------+----------+-----+--------+\n",
      "only showing top 5 rows\n",
      "\n"
     ]
    }
   ],
   "source": [
    "df_train.show(5)"
   ]
  },
  {
   "cell_type": "markdown",
   "metadata": {},
   "source": [
    "## Exploratory Analysis  : \n",
    "* Kmeans Clustering,  Using Pyspark"
   ]
  },
  {
   "cell_type": "code",
   "execution_count": 474,
   "metadata": {
    "collapsed": false
   },
   "outputs": [],
   "source": [
    "Kmeans = KMeans(k = 3, seed = 1) # call kmeans\n",
    "\n",
    "# assembler the four digit features \n",
    "assembler = VectorAssembler(inputCols=['stars','sum_weekda','sum_weeken', 'rate'], outputCol=\"features\") \n",
    "\n",
    "# combine use pipeline\n",
    "pipeline = Pipeline(stages=[assembler, Kmeans])\n",
    "\n"
   ]
  },
  {
   "cell_type": "code",
   "execution_count": 475,
   "metadata": {
    "collapsed": true
   },
   "outputs": [],
   "source": [
    "data = df_train\n",
    "# split the data \n",
    "trainTest_kmean = data.randomSplit([0.5, 0.5])\n",
    "trainingData_kmean = trainTest_kmean[0]\n",
    "testData_kmean = trainTest_kmean[1]"
   ]
  },
  {
   "cell_type": "code",
   "execution_count": 476,
   "metadata": {
    "collapsed": false
   },
   "outputs": [],
   "source": [
    "# Train the model on the training data\n",
    "model = pipeline.fit(data)\n",
    "\n",
    "# Run the model also on the training data (for evaluation purposes)\n",
    "training = model.transform(data)"
   ]
  },
  {
   "cell_type": "code",
   "execution_count": 477,
   "metadata": {
    "collapsed": false
   },
   "outputs": [
    {
     "name": "stdout",
     "output_type": "stream",
     "text": [
      "+--------------------+-----+----------+----------+-----+---------+--------------------+----------+\n",
      "|          business_i|stars|sum_weekda|sum_weeken|TRACT|     rate|            features|prediction|\n",
      "+--------------------+-----+----------+----------+-----+---------+--------------------+----------+\n",
      "|-23t2qOQWj8Kqp-Ij...|  3.0|        27|        10|20100|  0.37037|[3.0,27.0,10.0,0....|         0|\n",
      "|-4bNlx03GsXzgkHZw...|  3.0|       214|       131|20100|  0.61215|[3.0,214.0,131.0,...|         2|\n",
      "|-QMukwCbH8djqluG5...|  3.5|       138|        17|20100| 0.123188|[3.5,138.0,17.0,0...|         0|\n",
      "|-UqxkoufE3WGTnLZV...|  4.0|       129|        50|20100| 0.387597|[4.0,129.0,50.0,0...|         0|\n",
      "|-nfzEVOVvmDSFbxvB...|  2.5|        26|        10|20100| 0.384615|[2.5,26.0,10.0,0....|         0|\n",
      "|-yB1gsnF4gROLFWzZ...|  4.5|        13|         2|20100| 0.153846|[4.5,13.0,2.0,0.1...|         0|\n",
      "|04P3hZHQY4Wq7atYI...|  3.5|         4|         0|20100|      0.0|   [3.5,4.0,0.0,0.0]|         0|\n",
      "|05FkTuKNfebc8BafS...|  4.0|        28|         2|20100|0.0714286|[4.0,28.0,2.0,0.0...|         0|\n",
      "|0B89ylbI0L08rgiZ5...|  3.5|        34|        28|20100| 0.823529|[3.5,34.0,28.0,0....|         0|\n",
      "|0FgwBx7pgmNdUtsd_...|  4.0|        64|        37|20100| 0.578125|[4.0,64.0,37.0,0....|         0|\n",
      "|0JGXnhfU1IpJrs3D8...|  4.0|       417|        77|20100| 0.184652|[4.0,417.0,77.0,0...|         2|\n",
      "|0Lsd35rHY6UtPFHjj...|  2.5|         3|         2|20100| 0.666667|[2.5,3.0,2.0,0.66...|         0|\n",
      "|0ORPehdGZci1Z_BTK...|  3.0|        62|        48|20100| 0.774194|[3.0,62.0,48.0,0....|         0|\n",
      "|0b6OAFt85maz05Euv...|  4.0|        34|        39|20100|  1.14706|[4.0,34.0,39.0,1....|         0|\n",
      "|0mYlBBYkKTk4prNj7...|  3.5|        29|         0|20100|      0.0|  [3.5,29.0,0.0,0.0]|         0|\n",
      "|0sGhloiZf62hF_OTa...|  4.5|        44|         0|20300|      0.0|  [4.5,44.0,0.0,0.0]|         0|\n",
      "|1BENUN27sstbY6J4z...|  3.5|        11|         0|20100|      0.0|  [3.5,11.0,0.0,0.0]|         0|\n",
      "|1E53rS8afK2jiLod8...|  2.5|        18|         0|20100|      0.0|  [2.5,18.0,0.0,0.0]|         0|\n",
      "|1F83eUuzmPW6PVGJt...|  3.5|        19|         1|20100|0.0526316|[3.5,19.0,1.0,0.0...|         0|\n",
      "|1uMpsCZjnKHEaPdrx...|  3.0|        29|        30|20100|  1.03448|[3.0,29.0,30.0,1....|         0|\n",
      "+--------------------+-----+----------+----------+-----+---------+--------------------+----------+\n",
      "only showing top 20 rows\n",
      "\n"
     ]
    }
   ],
   "source": [
    "# # Run the model on the testing data for predictions\n",
    "predictions = model.transform(testData_kmean)\n",
    "predictions.show()"
   ]
  },
  {
   "cell_type": "markdown",
   "metadata": {},
   "source": [
    "## Join the labels with shapefile"
   ]
  },
  {
   "cell_type": "markdown",
   "metadata": {},
   "source": [
    "## Turn the dataframe into SQL table : Rename columns and Select the features"
   ]
  },
  {
   "cell_type": "code",
   "execution_count": 478,
   "metadata": {
    "collapsed": false
   },
   "outputs": [
    {
     "name": "stdout",
     "output_type": "stream",
     "text": [
      "+--------------------+-------------+\n",
      "|          business_i|cluster_label|\n",
      "+--------------------+-------------+\n",
      "|-23t2qOQWj8Kqp-Ij...|            0|\n",
      "|-4bNlx03GsXzgkHZw...|            2|\n",
      "|-QMukwCbH8djqluG5...|            0|\n",
      "|-UqxkoufE3WGTnLZV...|            0|\n",
      "|-nfzEVOVvmDSFbxvB...|            0|\n",
      "+--------------------+-------------+\n",
      "only showing top 5 rows\n",
      "\n"
     ]
    }
   ],
   "source": [
    "df_pandas = predictions.toPandas()\n",
    "df_pandas.to_csv(\"with_labels.csv\")\n",
    "\n",
    "sqlContext.registerDataFrameAsTable(predictions, \"predictions_table\")\n",
    "\n",
    "label_sqltable= sqlContext.sql(\"SELECT business_i,\\\n",
    "                      prediction AS cluster_label from predictions_table\")\n",
    "\n",
    "label_sqltable.show(5)"
   ]
  },
  {
   "cell_type": "code",
   "execution_count": 479,
   "metadata": {
    "collapsed": false
   },
   "outputs": [
    {
     "data": {
      "text/html": [
       "<div>\n",
       "<table border=\"1\" class=\"dataframe\">\n",
       "  <thead>\n",
       "    <tr style=\"text-align: right;\">\n",
       "      <th></th>\n",
       "      <th>business_i</th>\n",
       "      <th>cluster_label</th>\n",
       "    </tr>\n",
       "  </thead>\n",
       "  <tbody>\n",
       "    <tr>\n",
       "      <th>0</th>\n",
       "      <td>-23t2qOQWj8Kqp-Ijm1BQA</td>\n",
       "      <td>0</td>\n",
       "    </tr>\n",
       "    <tr>\n",
       "      <th>1</th>\n",
       "      <td>-4bNlx03GsXzgkHZwTrMaw</td>\n",
       "      <td>2</td>\n",
       "    </tr>\n",
       "    <tr>\n",
       "      <th>2</th>\n",
       "      <td>-QMukwCbH8djqluG5Vulbw</td>\n",
       "      <td>0</td>\n",
       "    </tr>\n",
       "    <tr>\n",
       "      <th>3</th>\n",
       "      <td>-UqxkoufE3WGTnLZV9em3w</td>\n",
       "      <td>0</td>\n",
       "    </tr>\n",
       "    <tr>\n",
       "      <th>4</th>\n",
       "      <td>-nfzEVOVvmDSFbxvBsllGQ</td>\n",
       "      <td>0</td>\n",
       "    </tr>\n",
       "  </tbody>\n",
       "</table>\n",
       "</div>"
      ],
      "text/plain": [
       "               business_i  cluster_label\n",
       "0  -23t2qOQWj8Kqp-Ijm1BQA              0\n",
       "1  -4bNlx03GsXzgkHZwTrMaw              2\n",
       "2  -QMukwCbH8djqluG5Vulbw              0\n",
       "3  -UqxkoufE3WGTnLZV9em3w              0\n",
       "4  -nfzEVOVvmDSFbxvBsllGQ              0"
      ]
     },
     "execution_count": 479,
     "metadata": {},
     "output_type": "execute_result"
    }
   ],
   "source": [
    "#merged_labels = df2.join(ct_shape_spark, on = \"business_i\", how = 'inner')\n",
    "label = label_sqltable.toPandas()\n",
    "label.head()"
   ]
  },
  {
   "cell_type": "markdown",
   "metadata": {},
   "source": [
    "## Visualization:"
   ]
  },
  {
   "cell_type": "code",
   "execution_count": 480,
   "metadata": {
    "collapsed": false
   },
   "outputs": [
    {
     "data": {
      "text/html": [
       "<div>\n",
       "<table border=\"1\" class=\"dataframe\">\n",
       "  <thead>\n",
       "    <tr style=\"text-align: right;\">\n",
       "      <th></th>\n",
       "      <th>AGE_18_21</th>\n",
       "      <th>AGE_22_29</th>\n",
       "      <th>AGE_30_39</th>\n",
       "      <th>AGE_40_49</th>\n",
       "      <th>AGE_50_64</th>\n",
       "      <th>AGE_5_17</th>\n",
       "      <th>AGE_65_UP</th>\n",
       "      <th>AGE_UNDER5</th>\n",
       "      <th>AMERI_ES</th>\n",
       "      <th>ASIAN</th>\n",
       "      <th>...</th>\n",
       "      <th>WHITE</th>\n",
       "      <th>business_i</th>\n",
       "      <th>geometry</th>\n",
       "      <th>latitude</th>\n",
       "      <th>longitude</th>\n",
       "      <th>rate</th>\n",
       "      <th>stars</th>\n",
       "      <th>sum_weekda</th>\n",
       "      <th>sum_weeken</th>\n",
       "      <th>cluster_label</th>\n",
       "    </tr>\n",
       "  </thead>\n",
       "  <tbody>\n",
       "    <tr>\n",
       "      <th>0</th>\n",
       "      <td>2899</td>\n",
       "      <td>366</td>\n",
       "      <td>130</td>\n",
       "      <td>114</td>\n",
       "      <td>143</td>\n",
       "      <td>80</td>\n",
       "      <td>148</td>\n",
       "      <td>42</td>\n",
       "      <td>12</td>\n",
       "      <td>147</td>\n",
       "      <td>...</td>\n",
       "      <td>3075</td>\n",
       "      <td>rDgiBah58fc6AfVD58m2mw</td>\n",
       "      <td>POINT (-79.99201099999993 40.43870140000007)</td>\n",
       "      <td>40.438701</td>\n",
       "      <td>-79.992011</td>\n",
       "      <td>0.444444</td>\n",
       "      <td>3.5</td>\n",
       "      <td>27</td>\n",
       "      <td>12</td>\n",
       "      <td>0</td>\n",
       "    </tr>\n",
       "    <tr>\n",
       "      <th>1</th>\n",
       "      <td>2899</td>\n",
       "      <td>366</td>\n",
       "      <td>130</td>\n",
       "      <td>114</td>\n",
       "      <td>143</td>\n",
       "      <td>80</td>\n",
       "      <td>148</td>\n",
       "      <td>42</td>\n",
       "      <td>12</td>\n",
       "      <td>147</td>\n",
       "      <td>...</td>\n",
       "      <td>3075</td>\n",
       "      <td>5Qa1bKl5BeXOC_6kZV7nBw</td>\n",
       "      <td>POINT (-79.98878489999998 40.43846700000006)</td>\n",
       "      <td>40.438467</td>\n",
       "      <td>-79.988785</td>\n",
       "      <td>0.208333</td>\n",
       "      <td>3.0</td>\n",
       "      <td>24</td>\n",
       "      <td>5</td>\n",
       "      <td>0</td>\n",
       "    </tr>\n",
       "    <tr>\n",
       "      <th>2</th>\n",
       "      <td>2899</td>\n",
       "      <td>366</td>\n",
       "      <td>130</td>\n",
       "      <td>114</td>\n",
       "      <td>143</td>\n",
       "      <td>80</td>\n",
       "      <td>148</td>\n",
       "      <td>42</td>\n",
       "      <td>12</td>\n",
       "      <td>147</td>\n",
       "      <td>...</td>\n",
       "      <td>3075</td>\n",
       "      <td>kiVnUirURYI91t9YY3nddQ</td>\n",
       "      <td>POINT (-79.98797799999994 40.43845300000004)</td>\n",
       "      <td>40.438453</td>\n",
       "      <td>-79.987978</td>\n",
       "      <td>0.321839</td>\n",
       "      <td>3.5</td>\n",
       "      <td>87</td>\n",
       "      <td>28</td>\n",
       "      <td>0</td>\n",
       "    </tr>\n",
       "    <tr>\n",
       "      <th>3</th>\n",
       "      <td>2899</td>\n",
       "      <td>366</td>\n",
       "      <td>130</td>\n",
       "      <td>114</td>\n",
       "      <td>143</td>\n",
       "      <td>80</td>\n",
       "      <td>148</td>\n",
       "      <td>42</td>\n",
       "      <td>12</td>\n",
       "      <td>147</td>\n",
       "      <td>...</td>\n",
       "      <td>3075</td>\n",
       "      <td>iTsMcekQkdMfYTl9ZKwxww</td>\n",
       "      <td>POINT (-79.98389949999995 40.43737870000007)</td>\n",
       "      <td>40.437379</td>\n",
       "      <td>-79.983900</td>\n",
       "      <td>0.000000</td>\n",
       "      <td>5.0</td>\n",
       "      <td>3</td>\n",
       "      <td>0</td>\n",
       "      <td>0</td>\n",
       "    </tr>\n",
       "    <tr>\n",
       "      <th>4</th>\n",
       "      <td>2899</td>\n",
       "      <td>366</td>\n",
       "      <td>130</td>\n",
       "      <td>114</td>\n",
       "      <td>143</td>\n",
       "      <td>80</td>\n",
       "      <td>148</td>\n",
       "      <td>42</td>\n",
       "      <td>12</td>\n",
       "      <td>147</td>\n",
       "      <td>...</td>\n",
       "      <td>3075</td>\n",
       "      <td>CLZwf-pAbUXRKiWhnPo2Qg</td>\n",
       "      <td>POINT (-79.99126667899998 40.43867487200004)</td>\n",
       "      <td>40.438675</td>\n",
       "      <td>-79.991267</td>\n",
       "      <td>0.488372</td>\n",
       "      <td>3.0</td>\n",
       "      <td>43</td>\n",
       "      <td>21</td>\n",
       "      <td>0</td>\n",
       "    </tr>\n",
       "  </tbody>\n",
       "</table>\n",
       "<p>5 rows × 60 columns</p>\n",
       "</div>"
      ],
      "text/plain": [
       "   AGE_18_21  AGE_22_29  AGE_30_39  AGE_40_49  AGE_50_64  AGE_5_17  AGE_65_UP  \\\n",
       "0       2899        366        130        114        143        80        148   \n",
       "1       2899        366        130        114        143        80        148   \n",
       "2       2899        366        130        114        143        80        148   \n",
       "3       2899        366        130        114        143        80        148   \n",
       "4       2899        366        130        114        143        80        148   \n",
       "\n",
       "   AGE_UNDER5  AMERI_ES  ASIAN      ...        WHITE              business_i  \\\n",
       "0          42        12    147      ...         3075  rDgiBah58fc6AfVD58m2mw   \n",
       "1          42        12    147      ...         3075  5Qa1bKl5BeXOC_6kZV7nBw   \n",
       "2          42        12    147      ...         3075  kiVnUirURYI91t9YY3nddQ   \n",
       "3          42        12    147      ...         3075  iTsMcekQkdMfYTl9ZKwxww   \n",
       "4          42        12    147      ...         3075  CLZwf-pAbUXRKiWhnPo2Qg   \n",
       "\n",
       "                                       geometry   latitude  longitude  \\\n",
       "0  POINT (-79.99201099999993 40.43870140000007)  40.438701 -79.992011   \n",
       "1  POINT (-79.98878489999998 40.43846700000006)  40.438467 -79.988785   \n",
       "2  POINT (-79.98797799999994 40.43845300000004)  40.438453 -79.987978   \n",
       "3  POINT (-79.98389949999995 40.43737870000007)  40.437379 -79.983900   \n",
       "4  POINT (-79.99126667899998 40.43867487200004)  40.438675 -79.991267   \n",
       "\n",
       "       rate  stars sum_weekda  sum_weeken  cluster_label  \n",
       "0  0.444444    3.5         27          12              0  \n",
       "1  0.208333    3.0         24           5              0  \n",
       "2  0.321839    3.5         87          28              0  \n",
       "3  0.000000    5.0          3           0              0  \n",
       "4  0.488372    3.0         43          21              0  \n",
       "\n",
       "[5 rows x 60 columns]"
      ]
     },
     "execution_count": 480,
     "metadata": {},
     "output_type": "execute_result"
    }
   ],
   "source": [
    "df_merged = ct_shape.merge(label, on =\"business_i\", how = \"inner\")\n",
    "\n",
    "df_merged.head()"
   ]
  },
  {
   "cell_type": "code",
   "execution_count": 481,
   "metadata": {
    "collapsed": false
   },
   "outputs": [
    {
     "data": {
      "text/plain": [
       "<matplotlib.text.Text at 0x159af27d0>"
      ]
     },
     "execution_count": 481,
     "metadata": {},
     "output_type": "execute_result"
    },
    {
     "data": {
      "image/png": "[encoded data removed]",
      "text/plain": [
       "<matplotlib.figure.Figure at 0x159a69a50>"
      ]
     },
     "metadata": {},
     "output_type": "display_data"
    }
   ],
   "source": [
    "f, ax = plt.subplots(figsize=(10,6))\n",
    "ax.get_xaxis().set_visible(False)\n",
    "ax.get_yaxis().set_visible(False)\n",
    "df_merged.plot(column =\"cluster_label\",alpha=1, linewidth=10, ax=ax)\n",
    "\n",
    "plt.title(\"Census Tract map colored by boroughs\")\n",
    "\n"
   ]
  },
  {
   "cell_type": "code",
   "execution_count": 482,
   "metadata": {
    "collapsed": false
   },
   "outputs": [],
   "source": [
    "df_pandas = predictions.toPandas()\n",
    "df_pandas.to_csv(\"with_labels.csv\")"
   ]
  },
  {
   "cell_type": "markdown",
   "metadata": {},
   "source": [
    "### take look of the cluster result:"
   ]
  },
  {
   "cell_type": "code",
   "execution_count": 277,
   "metadata": {
    "collapsed": false
   },
   "outputs": [
    {
     "data": {
      "text/plain": [
       "[Row(business_i=u'0bDp9GJBQ4K4ZTzvewLoVA', stars=3.5, sum_weekda=307, sum_weeken=281, TRACT=20300, rate=0.9153090119361877, features=DenseVector([3.5, 307.0, 281.0, 0.9153]), prediction=2),\n",
       " Row(business_i=u'4D2FmqwuQ_OXypQkQqQZcw', stars=3.5, sum_weekda=193, sum_weeken=64, TRACT=20100, rate=0.33160600066185, features=DenseVector([3.5, 193.0, 64.0, 0.3316]), prediction=2),\n",
       " Row(business_i=u'5reb2cEaziuyHOpnbh1XtA', stars=3.5, sum_weekda=165, sum_weeken=70, TRACT=20100, rate=0.4242419898509979, features=DenseVector([3.5, 165.0, 70.0, 0.4242]), prediction=2),\n",
       " Row(business_i=u'7ijQJV72aBrEoJCtTBCHxw', stars=3.5, sum_weekda=357, sum_weeken=95, TRACT=20100, rate=0.2661060094833374, features=DenseVector([3.5, 357.0, 95.0, 0.2661]), prediction=2),\n",
       " Row(business_i=u'7xNe2WZAQUGMp1_CxGVKnQ', stars=3.0, sum_weekda=206, sum_weeken=75, TRACT=20100, rate=0.36407798528671265, features=DenseVector([3.0, 206.0, 75.0, 0.3641]), prediction=2)]"
      ]
     },
     "execution_count": 277,
     "metadata": {},
     "output_type": "execute_result"
    }
   ],
   "source": [
    "predictions.filter(predictions.prediction == 2).take(5)"
   ]
  },
  {
   "cell_type": "code",
   "execution_count": 278,
   "metadata": {
    "collapsed": false
   },
   "outputs": [
    {
     "data": {
      "text/plain": [
       "[Row(business_i=u'Hjo5B_MgC5iK-Onf7EJyhA', stars=4.0, sum_weekda=802, sum_weeken=423, TRACT=20100, rate=0.5274310111999512, features=DenseVector([4.0, 802.0, 423.0, 0.5274]), prediction=1),\n",
       " Row(business_i=u'UXlGymo9AduQcq-Q-H16og', stars=4.0, sum_weekda=631, sum_weeken=370, TRACT=20100, rate=0.5863710045814514, features=DenseVector([4.0, 631.0, 370.0, 0.5864]), prediction=1),\n",
       " Row(business_i=u'cjD2yGRhT5yaSj_KP55Ptw', stars=4.0, sum_weekda=542, sum_weeken=369, TRACT=20300, rate=0.6808120012283325, features=DenseVector([4.0, 542.0, 369.0, 0.6808]), prediction=1),\n",
       " Row(business_i=u'rcCGdKxMPJk4lCzZZ1i_bA', stars=4.5, sum_weekda=813, sum_weeken=416, TRACT=20300, rate=0.5116850137710571, features=DenseVector([4.5, 813.0, 416.0, 0.5117]), prediction=1),\n",
       " Row(business_i=u'BfvzYmIkVgceomExPsChqQ', stars=4.5, sum_weekda=865, sum_weeken=78, TRACT=40300, rate=0.0901734009385109, features=DenseVector([4.5, 865.0, 78.0, 0.0902]), prediction=1)]"
      ]
     },
     "execution_count": 278,
     "metadata": {},
     "output_type": "execute_result"
    }
   ],
   "source": [
    "predictions.filter(predictions.prediction == 1).take(5)"
   ]
  },
  {
   "cell_type": "code",
   "execution_count": 279,
   "metadata": {
    "collapsed": false
   },
   "outputs": [
    {
     "data": {
      "text/plain": [
       "[Row(business_i=u'-KQ283hJkBO12u8XOrlCcQ', stars=3.0, sum_weekda=116, sum_weeken=59, TRACT=20100, rate=0.5086209774017334, features=DenseVector([3.0, 116.0, 59.0, 0.5086]), prediction=0),\n",
       " Row(business_i=u'-QMukwCbH8djqluG5Vulbw', stars=3.5, sum_weekda=138, sum_weeken=17, TRACT=20100, rate=0.12318799644708633, features=DenseVector([3.5, 138.0, 17.0, 0.1232]), prediction=0),\n",
       " Row(business_i=u'-TSFapUMwdyyxoi2egkOhw', stars=2.5, sum_weekda=7, sum_weeken=2, TRACT=20100, rate=0.2857140004634857, features=DenseVector([2.5, 7.0, 2.0, 0.2857]), prediction=0),\n",
       " Row(business_i=u'-UqxkoufE3WGTnLZV9em3w', stars=4.0, sum_weekda=129, sum_weeken=50, TRACT=20100, rate=0.387596994638443, features=DenseVector([4.0, 129.0, 50.0, 0.3876]), prediction=0),\n",
       " Row(business_i=u'-j4cyxQhg3uikKll8GspBw', stars=4.5, sum_weekda=3, sum_weeken=11, TRACT=20300, rate=3.666670083999634, features=DenseVector([4.5, 3.0, 11.0, 3.6667]), prediction=0)]"
      ]
     },
     "execution_count": 279,
     "metadata": {},
     "output_type": "execute_result"
    }
   ],
   "source": [
    "predictions.filter(predictions.prediction == 0).take(5)"
   ]
  },
  {
   "cell_type": "code",
   "execution_count": 282,
   "metadata": {
    "collapsed": false
   },
   "outputs": [
    {
     "name": "stdout",
     "output_type": "stream",
     "text": [
      "+----------+------------------+------------------+------------------+\n",
      "|prediction|        avg(stars)|   avg(sum_weekda)|   avg(sum_weeken)|\n",
      "+----------+------------------+------------------+------------------+\n",
      "|         1| 3.888888888888889| 685.6666666666666|410.22222222222223|\n",
      "|         2|              3.85| 231.8153846153846|131.43076923076924|\n",
      "|         0|3.7341188524590163|28.826844262295083|14.645491803278688|\n",
      "+----------+------------------+------------------+------------------+\n",
      "\n"
     ]
    }
   ],
   "source": [
    "#predictions.select(\"prediction\").\n",
    "\n",
    "predictions.groupBy('prediction').mean(\"stars\", \"sum_weekda\", \"sum_weeken\").show()"
   ]
  },
  {
   "cell_type": "markdown",
   "metadata": {},
   "source": [
    "## As a result, we would like to discover more for the label 1 restaurants and neighborhood"
   ]
  },
  {
   "cell_type": "markdown",
   "metadata": {},
   "source": [
    "-----"
   ]
  },
  {
   "cell_type": "markdown",
   "metadata": {
    "collapsed": true
   },
   "source": [
    "## Decision Tree"
   ]
  },
  {
   "cell_type": "code",
   "execution_count": 383,
   "metadata": {
    "collapsed": false
   },
   "outputs": [
    {
     "data": {
      "text/plain": [
       "DataFrame[business_i: string, cluster_label: int, stars: float, sum_weekda: int, sum_weeken: int, rate: float, tract: int]"
      ]
     },
     "execution_count": 383,
     "metadata": {},
     "output_type": "execute_result"
    }
   ],
   "source": [
    "sqltable_dt = sqlContext.sql(\"SELECT business_i,\\\n",
    "                      prediction AS cluster_label, stars, sum_weekda,sum_weeken,rate, tract\\\n",
    "                      from predictions_table\")\n",
    "\n",
    "sqltable_dt"
   ]
  },
  {
   "cell_type": "code",
   "execution_count": 393,
   "metadata": {
    "collapsed": false
   },
   "outputs": [],
   "source": [
    "assembler = VectorAssembler(inputCols=['stars','sum_weeken','sum_weekda',\"rate\", \"tract\"], outputCol=\"features\")\n",
    "\n",
    "indexer = StringIndexer(inputCol=\"stars\", outputCol=\"DT_labels\").fit(sqltable_dt)\n",
    "\n",
    "# Specify model\n",
    "dt = DecisionTreeClassifier(labelCol = \"cluster_label\", featuresCol=\"features\")\n",
    "pipeline = Pipeline(stages=[assembler, indexer, dt])\n"
   ]
  },
  {
   "cell_type": "code",
   "execution_count": 406,
   "metadata": {
    "collapsed": false
   },
   "outputs": [
    {
     "name": "stdout",
     "output_type": "stream",
     "text": [
      "+--------------------+-------------+-----+----------+----------+--------+-----+\n",
      "|          business_i|cluster_label|stars|sum_weekda|sum_weeken|    rate|tract|\n",
      "+--------------------+-------------+-----+----------+----------+--------+-----+\n",
      "|-QMukwCbH8djqluG5...|            0|  3.5|       138|        17|0.123188|20100|\n",
      "|-UqxkoufE3WGTnLZV...|            0|  4.0|       129|        50|0.387597|20100|\n",
      "|-j4cyxQhg3uikKll8...|            0|  4.5|         3|        11| 3.66667|20300|\n",
      "+--------------------+-------------+-----+----------+----------+--------+-----+\n",
      "only showing top 3 rows\n",
      "\n"
     ]
    }
   ],
   "source": [
    "trainTest = sqltable_dt.randomSplit([0.5, 0.5])\n",
    "trainingData = trainTest[0]\n",
    "testData = trainTest[1]\n",
    "testData.show(3)"
   ]
  },
  {
   "cell_type": "code",
   "execution_count": 395,
   "metadata": {
    "collapsed": false
   },
   "outputs": [],
   "source": [
    "# Train the model on the training data\n",
    "model = pipeline.fit(testData)\n",
    "\n",
    "# Run the model also on the training data (for evaluation purposes)\n",
    "training = model.transform(trainingData)\n",
    "\n"
   ]
  },
  {
   "cell_type": "code",
   "execution_count": 405,
   "metadata": {
    "collapsed": false
   },
   "outputs": [
    {
     "name": "stdout",
     "output_type": "stream",
     "text": [
      "+--------------------+-------------+-----+----------+----------+--------+-----+--------------------+---------+---------------+-------------+----------+\n",
      "|          business_i|cluster_label|stars|sum_weekda|sum_weeken|    rate|tract|            features|DT_labels|  rawPrediction|  probability|prediction|\n",
      "+--------------------+-------------+-----+----------+----------+--------+-----+--------------------+---------+---------------+-------------+----------+\n",
      "|-UqxkoufE3WGTnLZV...|            0|  4.0|       129|        50|0.387597|20100|[4.0,50.0,129.0,0...|      0.0|[482.0,0.0,0.0]|[1.0,0.0,0.0]|       0.0|\n",
      "|-j4cyxQhg3uikKll8...|            0|  4.5|         3|        11| 3.66667|20300|[4.5,11.0,3.0,3.6...|      2.0|[482.0,0.0,0.0]|[1.0,0.0,0.0]|       0.0|\n",
      "|0ORPehdGZci1Z_BTK...|            0|  3.0|        62|        48|0.774194|20100|[3.0,48.0,62.0,0....|      3.0|[482.0,0.0,0.0]|[1.0,0.0,0.0]|       0.0|\n",
      "|0bDp9GJBQ4K4ZTzve...|            2|  3.5|       307|       281|0.915309|20300|[3.5,281.0,307.0,...|      1.0|  [0.0,0.0,7.0]|[0.0,0.0,1.0]|       2.0|\n",
      "|14gY1iJ-KRnERxHj4...|            0|  3.5|        62|        46|0.741935|20100|[3.5,46.0,62.0,0....|      1.0|[482.0,0.0,0.0]|[1.0,0.0,0.0]|       0.0|\n",
      "+--------------------+-------------+-----+----------+----------+--------+-----+--------------------+---------+---------------+-------------+----------+\n",
      "only showing top 5 rows\n",
      "\n"
     ]
    }
   ],
   "source": [
    "# # Run the model on the testing data for predictions\n",
    "predictions = model.transform(testData)\n",
    "predictions.show(5)"
   ]
  },
  {
   "cell_type": "code",
   "execution_count": 397,
   "metadata": {
    "collapsed": false
   },
   "outputs": [
    {
     "name": "stdout",
     "output_type": "stream",
     "text": [
      "Test Error = 0.0307414\n"
     ]
    }
   ],
   "source": [
    "from pyspark.ml.evaluation import MulticlassClassificationEvaluator\n",
    "\n",
    "# Select (prediction, true label) and compute test accuracy\n",
    "evaluator = MulticlassClassificationEvaluator(labelCol=\"cluster_label\", \n",
    "                                              predictionCol=\"prediction\", \n",
    "                                              metricName=\"accuracy\")\n",
    "accuracy = evaluator.evaluate(training)\n",
    "print \"Test Error = %g\" % (1.0 - accuracy)\n"
   ]
  },
  {
   "cell_type": "markdown",
   "metadata": {},
   "source": [
    "## Using Decision Tree model to train on the 'stars','sum_weeken','sum_weekda',\"rate\", \"tract\" features to predict the labels of the cluster. The accuracy rate is 97%\n",
    "---"
   ]
  },
  {
   "cell_type": "code",
   "execution_count": 91,
   "metadata": {
    "collapsed": false
   },
   "outputs": [],
   "source": [
    "# from pyspark.ml.regression import LinearRegression\n",
    "\n",
    "# assembler = VectorAssembler(inputCols=['cool','funny','useful'], outputCol=\"features\")\n",
    "\n",
    "# indexer = StringIndexer(inputCol=\"stars\", outputCol=\"labels\").fit(fil_new)\n",
    "# # Specify model\n",
    "# dt = LinearRegression(labelCol = \"labels\", featuresCol=\"features\")\n",
    "# pipeline = Pipeline(stages=[assembler, indexer, dt])\n",
    "\n",
    "# # Train the model on the training data\n",
    "# model = pipeline.fit(testData)\n",
    "\n",
    "# # Run the model also on the training data (for evaluation purposes)\n",
    "# training = model.transform(trainingData)\n"
   ]
  },
  {
   "cell_type": "code",
   "execution_count": 398,
   "metadata": {
    "collapsed": false
   },
   "outputs": [],
   "source": [
    "# # # Run the model on the testing data for predictions\n",
    "# predictions = model.transform(testData)\n",
    "# predictions.select('features', 'labels', 'prediction').show(10)"
   ]
  },
  {
   "cell_type": "markdown",
   "metadata": {},
   "source": [
    "## We would like to see the data separately, just study  label 1 restaurants"
   ]
  },
  {
   "cell_type": "code",
   "execution_count": 435,
   "metadata": {
    "collapsed": false
   },
   "outputs": [],
   "source": [
    "df_merged_spark = sqlContext.createDataFrame(df_merged)\n",
    "df_merged_1 = df_merged_spark.filter(df_merged_spark.cluster_label ==1)\n"
   ]
  },
  {
   "cell_type": "markdown",
   "metadata": {},
   "source": [
    "## Aggregate by stars and tracts of label 1 restaurants"
   ]
  },
  {
   "cell_type": "code",
   "execution_count": 458,
   "metadata": {
    "collapsed": false
   },
   "outputs": [
    {
     "name": "stdout",
     "output_type": "stream",
     "text": [
      "+------+-----+-----+\n",
      "| TRACT|stars|count|\n",
      "+------+-----+-----+\n",
      "|220500|  4.5|    2|\n",
      "|020100|  4.0|    2|\n",
      "|141300|  4.0|    1|\n",
      "|060300|  3.5|    1|\n",
      "|020300|  4.0|    1|\n",
      "|070900|  3.0|    1|\n",
      "|090200|  3.5|    1|\n",
      "|070500|  4.0|    1|\n",
      "|190300|  4.5|    1|\n",
      "|170200|  4.5|    1|\n",
      "|040400|  3.5|    1|\n",
      "|111500|  3.5|    1|\n",
      "|070500|  3.5|    1|\n",
      "|040300|  4.5|    1|\n",
      "|160900|  2.5|    1|\n",
      "|020300|  4.5|    1|\n",
      "+------+-----+-----+\n",
      "\n"
     ]
    }
   ],
   "source": [
    "df_merged_1.groupBy('TRACT', \"stars\").count().orderBy(\"count\",ascending=False).show()\n",
    "count = df_merged_1.groupBy('TRACT', \"stars\").count().orderBy(\"count\",ascending=False)"
   ]
  },
  {
   "cell_type": "code",
   "execution_count": 464,
   "metadata": {
    "collapsed": false
   },
   "outputs": [
    {
     "name": "stdout",
     "output_type": "stream",
     "text": [
      "+------+-----+\n",
      "| TRACT|count|\n",
      "+------+-----+\n",
      "|040300|    1|\n",
      "|220500|    1|\n",
      "|190300|    1|\n",
      "|141300|    1|\n",
      "|020100|    1|\n",
      "|020300|    2|\n",
      "|070500|    1|\n",
      "|170200|    1|\n",
      "+------+-----+\n",
      "\n"
     ]
    }
   ],
   "source": [
    "count.filter(count.stars > 3.5).select(\"TRACT\").groupBy('TRACT').count().show()"
   ]
  },
  {
   "cell_type": "markdown",
   "metadata": {},
   "source": [
    "## 403 -  Squirrel Hill North\n",
    "## 1903 - Mount Washington\n",
    "## 1413 - Squirrel Hill South\n",
    "##  201 - Central Business District \n",
    "## 0203 - Strip District\n",
    "## 1702 - Southside Flats\n",
    "## 0705 - Shadyside\n"
   ]
  },
  {
   "cell_type": "markdown",
   "metadata": {},
   "source": [
    "## Look at the overall data with all the labels"
   ]
  },
  {
   "cell_type": "code",
   "execution_count": 441,
   "metadata": {
    "collapsed": false
   },
   "outputs": [
    {
     "name": "stdout",
     "output_type": "stream",
     "text": [
      "+------+-----+\n",
      "| TRACT|count|\n",
      "+------+-----+\n",
      "|020100|  193|\n",
      "|020300|   75|\n",
      "|170200|   73|\n",
      "|160900|   55|\n",
      "|070300|   49|\n",
      "|040500|   47|\n",
      "|140800|   35|\n",
      "|111500|   35|\n",
      "|192100|   30|\n",
      "|070500|   30|\n",
      "|040400|   22|\n",
      "|141300|   22|\n",
      "|090100|   21|\n",
      "|220500|   21|\n",
      "|080400|   20|\n",
      "|080200|   17|\n",
      "|060300|   17|\n",
      "|101100|   16|\n",
      "|090300|   15|\n",
      "|090200|   15|\n",
      "+------+-----+\n",
      "only showing top 20 rows\n",
      "\n"
     ]
    }
   ],
   "source": [
    "df_merged_spark.groupBy('TRACT').count().orderBy('count',ascending=False).show()"
   ]
  },
  {
   "cell_type": "code",
   "execution_count": 465,
   "metadata": {
    "collapsed": false
   },
   "outputs": [
    {
     "name": "stdout",
     "output_type": "stream",
     "text": [
      "+------+\n",
      "| TRACT|\n",
      "+------+\n",
      "|020100|\n",
      "|020100|\n",
      "|170200|\n",
      "|020300|\n",
      "|020300|\n",
      "|160900|\n",
      "|170200|\n",
      "|140800|\n",
      "|070300|\n",
      "|040500|\n",
      "|070500|\n",
      "|070300|\n",
      "|160900|\n",
      "|192100|\n",
      "|040500|\n",
      "+------+\n",
      "only showing top 15 rows\n",
      "\n"
     ]
    }
   ],
   "source": [
    "count_1 = df_merged_spark.groupBy('TRACT', \"stars\").count().orderBy('count',ascending=False)\n",
    "count_1.filter(count_1.stars > 3.5).select(\"TRACT\").show(15)"
   ]
  },
  {
   "cell_type": "markdown",
   "metadata": {},
   "source": [
    "## 0201 - Central Business District \n",
    "## 1702, 1609 - Southside Flats\n",
    "\n",
    "\n",
    "## 0203 - Strip District\n",
    "\n",
    "Strip District\n",
    "After spending a couple of decades focused on soccer practices, dance classes and dioramas, empty nesters may want to get back to urban living once the kids move out. There are few better spots than the resurgent Strip District, where new lofts and condominiums are going up amidst restaurants and markets.\n",
    "Walk Score: 70\n",
    "\n",
    "## 1609 - Southside Flats\n",
    "## 0703, 0705 - Shadyside\n",
    "## 1408 - Squirrel Hill South\n",
    "## 0405 - Central Oakland\n",
    "## 0902 - Central Lawrenceville\n",
    "Central Lawrenceville Nicknamed the “Brooklyn of Pittsburgh,” Lawrenceville is home to an eclectic mix of retail outlets (within a block on Butler Street: a tea shop, a bike shop, a guitar store, a florist and a zombie-themed store) and hordes of bars ranging from divey to upscale. The area has become popular rapidly (and highly sought by investors and house flippers), but rowhouses and single-family homes still can be had at reasonable prices.\n",
    "Walk Score: 73\n"
   ]
  },
  {
   "cell_type": "code",
   "execution_count": null,
   "metadata": {
    "collapsed": true
   },
   "outputs": [],
   "source": []
  },
  {
   "cell_type": "code",
   "execution_count": null,
   "metadata": {
    "collapsed": true
   },
   "outputs": [],
   "source": []
  },
  {
   "cell_type": "code",
   "execution_count": null,
   "metadata": {
    "collapsed": true
   },
   "outputs": [],
   "source": []
  },
  {
   "cell_type": "code",
   "execution_count": null,
   "metadata": {
    "collapsed": true
   },
   "outputs": [],
   "source": []
  },
  {
   "cell_type": "code",
   "execution_count": null,
   "metadata": {
    "collapsed": true
   },
   "outputs": [],
   "source": []
  },
  {
   "cell_type": "code",
   "execution_count": null,
   "metadata": {
    "collapsed": true
   },
   "outputs": [],
   "source": []
  }
 ],
 "metadata": {
  "kernelspec": {
   "display_name": "Python 2",
   "language": "python",
   "name": "python2"
  },
  "language_info": {
   "codemirror_mode": {
    "name": "ipython",
    "version": 2
   },
   "file_extension": ".py",
   "mimetype": "text/x-python",
   "name": "python",
   "nbconvert_exporter": "python",
   "pygments_lexer": "ipython2",
   "version": "2.7.11"
  }
 },
 "nbformat": 4,
 "nbformat_minor": 0
}
